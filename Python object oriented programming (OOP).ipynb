{
 "cells": [
  {
   "cell_type": "markdown",
   "id": "4423537a",
   "metadata": {},
   "source": [
    "# Python class & object"
   ]
  },
  {
   "cell_type": "markdown",
   "id": "d45cc30f",
   "metadata": {},
   "source": [
    ". An object is any entity that has attributes and behaviors.\n",
    "\n",
    ". e.g. parrot= object\n",
    "\n",
    ". attributes= name, age, color etc.\n",
    "\n",
    ". behavior= dancing, singing etc.\n",
    "\n",
    ". simiarly a class is a blueprint for that object."
   ]
  },
  {
   "cell_type": "code",
   "execution_count": 2,
   "id": "dd481c4f",
   "metadata": {
    "ExecuteTime": {
     "end_time": "2023-02-15T12:01:17.414149Z",
     "start_time": "2023-02-15T12:01:17.407172Z"
    }
   },
   "outputs": [
    {
     "name": "stdout",
     "output_type": "stream",
     "text": [
      "Blu is 10 years old\n",
      "woo is 15 years old\n"
     ]
    }
   ],
   "source": [
    "class Parrot:\n",
    "    #class attributes\n",
    "    name=\"\"\n",
    "    age=0\n",
    "#create parrot1 object\n",
    "parrot1=Parrot()\n",
    "parrot1.name=\"Blu\"\n",
    "parrot1.age=10\n",
    "\n",
    "#create another obejct parrot2\n",
    "parrot2=Parrot()\n",
    "parrot2.name=\"woo\"\n",
    "parrot2.age=15\n",
    "\n",
    "#access the attributes\n",
    "print(f\"{parrot1.name} is {parrot1.age} years old\")\n",
    "print(f\"{parrot2.name} is {parrot2.age} years old\")\n"
   ]
  },
  {
   "cell_type": "markdown",
   "id": "5358fa43",
   "metadata": {},
   "source": [
    ". we create instance of the parror class, where parrot1, parrot2 are references to our new objects.\n",
    "\n",
    ". We then accessed and assigned different values to the instance attributes using the objects name and the . notation.\n"
   ]
  },
  {
   "cell_type": "markdown",
   "id": "0c0df042",
   "metadata": {},
   "source": [
    "flow:\n",
    "    \n",
    "    define class\n",
    "    \n",
    "    define attributes\n",
    "    \n",
    "    create objects (with defined attributes)\n",
    "    \n",
    "    access the attributes\n",
    "    "
   ]
  },
  {
   "cell_type": "markdown",
   "id": "1777ee59",
   "metadata": {},
   "source": [
    "# Python inheritance"
   ]
  },
  {
   "cell_type": "markdown",
   "id": "8d14fcfa",
   "metadata": {},
   "source": [
    ".Inheritance is a way of creating a new class for using details of an existing class without modifying it.\n",
    "\n",
    ".The newly formed class is a derived class (or child class).\n",
    "\n",
    ".Similarly, the existing class is a base class (or parent class)."
   ]
  },
  {
   "cell_type": "code",
   "execution_count": 2,
   "id": "b22365b1",
   "metadata": {
    "ExecuteTime": {
     "end_time": "2023-02-16T05:34:35.601296Z",
     "start_time": "2023-02-16T05:34:35.580308Z"
    }
   },
   "outputs": [
    {
     "name": "stdout",
     "output_type": "stream",
     "text": [
      "I can eat!\n",
      "I can sleep!\n",
      "I can bark! woof woof!!\n"
     ]
    }
   ],
   "source": [
    "#base class\n",
    "\n",
    "class animal:\n",
    "    def eat(self):\n",
    "        print(\"I can eat!\")\n",
    "    def sleep(self):\n",
    "        print(\"I can sleep!\")\n",
    "#derived class\n",
    "class dog(animal):\n",
    "    def bark(self):\n",
    "        print(\"I can bark! woof woof!!\")\n",
    "#create object of the dog class\n",
    "dog1=dog()\n",
    "#calling the members of the base class\n",
    "dog1.eat()\n",
    "dog1.sleep()\n",
    "\n",
    "#calling members of the derived class\n",
    "dog1.bark();"
   ]
  },
  {
   "cell_type": "markdown",
   "id": "29495a05",
   "metadata": {},
   "source": [
    "# Python Encapsulation"
   ]
  },
  {
   "cell_type": "markdown",
   "id": "8532b654",
   "metadata": {},
   "source": [
    ".Encapsulation refers to the bundling of attributes and methods inside a single class.\n",
    "\n",
    ".It prevents outer classes from accessing and changing attributes and methods of a class. \n",
    "\n",
    ".This also helps to achieve data hiding."
   ]
  },
  {
   "cell_type": "markdown",
   "id": "9db7f838",
   "metadata": {},
   "source": [
    ".In Python, we denote private attributes using underscore as the prefix i.e single _ or double __. "
   ]
  },
  {
   "cell_type": "code",
   "execution_count": 5,
   "id": "a23cfc4d",
   "metadata": {
    "ExecuteTime": {
     "end_time": "2023-02-16T05:56:53.462597Z",
     "start_time": "2023-02-16T05:56:53.452606Z"
    }
   },
   "outputs": [
    {
     "name": "stdout",
     "output_type": "stream",
     "text": [
      "selling price: 900\n",
      "selling price: 900\n",
      "selling price: 1000\n"
     ]
    }
   ],
   "source": [
    "class Computer:\n",
    "    def __init__(self):\n",
    "        self.__maxprice=900\n",
    "    def sell(self):\n",
    "        print(\"selling price: {}\".format(self.__maxprice))\n",
    "    def setMaxPrice(self,price):\n",
    "        self.__maxprice=price\n",
    "c=Computer()\n",
    "c.sell()\n",
    "\n",
    "#change the price\n",
    "c.__maxprice=1000\n",
    "c.sell()\n",
    "#using setter function\n",
    "c.setMaxPrice(1000)\n",
    "c.sell()"
   ]
  },
  {
   "cell_type": "markdown",
   "id": "d80b8564",
   "metadata": {},
   "source": [
    "In the above program, we defined a Computer class.\n",
    "\n",
    "We used __init__() method to store the maximum selling price of Computer. Here, notice the code\n",
    "\n",
    "c.__maxprice = 1000\n",
    "\n",
    "Here, we have tried to modify the value of __maxprice outside of the class.\n",
    "\n",
    "However, since __maxprice is a private variable, this modification is not seen on the output.\n",
    "\n",
    "As shown, to change the value, we have to use a setter function i.e setMaxPrice() which takes price as a parameter."
   ]
  },
  {
   "cell_type": "markdown",
   "id": "692cc17a",
   "metadata": {},
   "source": [
    "# Polymorphism"
   ]
  },
  {
   "cell_type": "markdown",
   "id": "d98c624d",
   "metadata": {},
   "source": [
    ". It means more than one form\n",
    "\n",
    ". which means the same entity(method or operator or object ) can perform different operations in different scenarios\n"
   ]
  },
  {
   "cell_type": "code",
   "execution_count": 6,
   "id": "583d2af7",
   "metadata": {
    "ExecuteTime": {
     "end_time": "2023-02-16T06:18:49.900046Z",
     "start_time": "2023-02-16T06:18:49.886053Z"
    }
   },
   "outputs": [
    {
     "name": "stdout",
     "output_type": "stream",
     "text": [
      "rendering square...\n",
      "rendering circle...\n"
     ]
    }
   ],
   "source": [
    "class Polygon:\n",
    "    #method to render a shape\n",
    "    def render(self):\n",
    "        print(\"rendering polygon...\")\n",
    "class Square(Polygon):\n",
    "    #renders square\n",
    "    def render(self):\n",
    "        print(\"rendering square...\")\n",
    "class Circle(Polygon):\n",
    "    #renders circle\n",
    "    def render(self):\n",
    "        print(\"rendering circle...\")\n",
    "\n",
    "#create an object of square\n",
    "s1=Square()\n",
    "s1.render()\n",
    "\n",
    "#create an object of Circle\n",
    "c1=Circle()\n",
    "c1.render()"
   ]
  },
  {
   "cell_type": "markdown",
   "id": "90a36554",
   "metadata": {},
   "source": [
    "In the above example, we have created a superclass: Polygon and two subclasses: Square and Circle.\n",
    "\n",
    "Notice the use of the render() method.\n",
    "\n",
    "The main purpose of the render() method is to render the shape. \n",
    "\n",
    "However, the process of rendering a square is different from the process of rendering a circle.\n",
    "\n",
    "Hence, the render() method behaves differently in different classes. \n",
    "\n",
    "Or, we can say render() is polymorphic."
   ]
  }
 ],
 "metadata": {
  "kernelspec": {
   "display_name": "Python 3 (ipykernel)",
   "language": "python",
   "name": "python3"
  },
  "language_info": {
   "codemirror_mode": {
    "name": "ipython",
    "version": 3
   },
   "file_extension": ".py",
   "mimetype": "text/x-python",
   "name": "python",
   "nbconvert_exporter": "python",
   "pygments_lexer": "ipython3",
   "version": "3.9.7"
  },
  "varInspector": {
   "cols": {
    "lenName": 16,
    "lenType": 16,
    "lenVar": 40
   },
   "kernels_config": {
    "python": {
     "delete_cmd_postfix": "",
     "delete_cmd_prefix": "del ",
     "library": "var_list.py",
     "varRefreshCmd": "print(var_dic_list())"
    },
    "r": {
     "delete_cmd_postfix": ") ",
     "delete_cmd_prefix": "rm(",
     "library": "var_list.r",
     "varRefreshCmd": "cat(var_dic_list()) "
    }
   },
   "types_to_exclude": [
    "module",
    "function",
    "builtin_function_or_method",
    "instance",
    "_Feature"
   ],
   "window_display": false
  }
 },
 "nbformat": 4,
 "nbformat_minor": 5
}
